{
 "cells": [
  {
   "attachments": {},
   "cell_type": "markdown",
   "id": "72ce7dad-49bb-4ecf-bc1f-0d55ed61d276",
   "metadata": {
    "tags": []
   },
   "source": [
    "# STAC Tutorial: Search and Visualize\n",
    "\n",
    "This notebook shows how to display STAC GeoJSON foorprints and XYZ Tiles from assets on an interactive map using [Folium](https://python-visualization.github.io/folium/index.html). [pystac-client](https://pystac-client.readthedocs.io/) is used for searching STAC APIs. An external [TiTiler](https://github.com/developmentseed/titiler) service is used as an XYZ tiler.\n",
    "\n",
    "The notebook starts with selecting an area of interest (several are provided in the \"../aois\" directory) and displaying the AOI on a map. This is followed by searching a STAC API and displaying the footprints on the same map. Finally, the assets will be added to the map by utilizing an external tiler to read the assets directly."
   ]
  },
  {
   "cell_type": "markdown",
   "id": "9dc24c73-9629-4671-b4f0-2d14c585665f",
   "metadata": {},
   "source": [
    "# Area of Interest"
   ]
  },
  {
   "cell_type": "code",
   "execution_count": null,
   "id": "10ddaf4b-29ad-4394-899b-037aa631ac12",
   "metadata": {},
   "outputs": [],
   "source": [
    "# AOIs available\n",
    "\n",
    "from glob import glob\n",
    "from pprint import pprint\n",
    "\n",
    "pprint(glob(\"../aois/*\"))"
   ]
  },
  {
   "cell_type": "code",
   "execution_count": null,
   "id": "f8e8ee7d-540b-49b8-98c6-f37c4fd2eb5a",
   "metadata": {},
   "outputs": [],
   "source": [
    "# read the GeoJSON file\n",
    "\n",
    "import json\n",
    "with open('../aois/bay-of-fundy.geojson', 'r') as f:\n",
    "    aoi = json.load(f)\n",
    "pprint(aoi)"
   ]
  },
  {
   "cell_type": "code",
   "execution_count": null,
   "id": "639e3d0b-7bc3-4070-99e7-aff80deff904",
   "metadata": {},
   "outputs": [],
   "source": [
    "# use folium to display vectors\n",
    "# Several folium basemap tiles are available:\n",
    "#   - OpenStreetMap\n",
    "#   - Stamen Terrain\n",
    "#   - Stamen Toner\n",
    "#   - Stamen Watercolor\n",
    "#   - CartoDB positron\n",
    "#   - CartoDB dark_matter\n",
    "\n",
    "import folium\n",
    "\n",
    "map = folium.Map(tiles='OpenStreetMap')\n",
    "\n",
    "# add vector to map, as transparent polygon\n",
    "folium.GeoJson(aoi, style_function = lambda x: {'fillColor': '#00000000'}).add_to(map)\n",
    "\n",
    "map"
   ]
  },
  {
   "cell_type": "code",
   "execution_count": null,
   "id": "bc7b4d8d-1913-4d88-a553-13797b0136f5",
   "metadata": {},
   "outputs": [],
   "source": [
    "# fit the map to the bounds of the data\n",
    "\n",
    "lons = [x[0] for x in aoi[\"geometry\"][\"coordinates\"][0]]\n",
    "lats = [x[1] for x in aoi[\"geometry\"][\"coordinates\"][0]]\n",
    "map.fit_bounds([(min(lats), min(lons)), (max(lats), max(lons))])\n",
    "map"
   ]
  },
  {
   "cell_type": "markdown",
   "id": "2e3b50e1-96df-408d-af60-38f754aa732d",
   "metadata": {},
   "source": [
    "# Searching a STAC API"
   ]
  },
  {
   "cell_type": "code",
   "execution_count": null,
   "id": "4eddde78-d201-4daa-969d-568d1e34e8a3",
   "metadata": {},
   "outputs": [],
   "source": [
    "APIS = {\n",
    "    \"earth-search\": \"https://earth-search.aws.element84.com/v1/\",\n",
    "    \"planetary-computer\": \"https://planetarycomputer.microsoft.com/api/stac/v1\",\n",
    "    \"usgs-landsat\": \"https://landsatlook.usgs.gov/stac-server\",\n",
    "    \"nasa-lpdaac\": \"https://cmr.earthdata.nasa.gov/stac/LPCLOUD\"\n",
    "}"
   ]
  },
  {
   "cell_type": "code",
   "execution_count": null,
   "id": "8143e299-9d31-4b13-a8e3-ce59edd8379d",
   "metadata": {},
   "outputs": [],
   "source": [
    "# Use pystac-client to find data in the STAC API.\n",
    "\n",
    "from pystac_client import Client\n",
    "api = Client.open(APIS['earth-search'])\n",
    "api"
   ]
  },
  {
   "cell_type": "code",
   "execution_count": null,
   "id": "23df7213-c6e9-4fdb-b004-3afe3ca6d396",
   "metadata": {},
   "outputs": [],
   "source": [
    "# list collections\n",
    "\n",
    "for collection in api.get_collections():\n",
    "    print(f\"{collection.id} - {collection.title}\")"
   ]
  },
  {
   "cell_type": "code",
   "execution_count": null,
   "id": "1759ecb5-ab99-4400-933d-9fd3e76d4df1",
   "metadata": {},
   "outputs": [],
   "source": [
    "# print collection\n",
    "import pandas as pd\n",
    "\n",
    "col = 'sentinel-2-l2a'\n",
    "\n",
    "collection = api.get_collection(col)\n",
    "collection"
   ]
  },
  {
   "cell_type": "code",
   "execution_count": null,
   "id": "0e489082-c85b-4242-9b41-cbc7d790c49c",
   "metadata": {},
   "outputs": [],
   "source": [
    "# Search the API for Items\n",
    "\n",
    "query = api.search(\n",
    "    collections=[col],\n",
    "    intersects=aoi['geometry'],\n",
    "    datetime=\"2023-09-01/2023-10-31\",\n",
    "    limit=100,\n",
    "    query = [\n",
    "        \"eo:cloud_cover<5\"\n",
    "    ]\n",
    ")\n",
    "item_collection = query.item_collection()\n",
    "\n",
    "print(f\"Found: {len(item_collection):d} STAC Items\")"
   ]
  },
  {
   "cell_type": "code",
   "execution_count": null,
   "id": "65834b73-a05b-43f2-af38-c27849e36bf4",
   "metadata": {},
   "outputs": [],
   "source": [
    "# view footprints\n",
    "style = {\n",
    "    'fillColor': '#00000000', # transparent\n",
    "    'color': '#fc0f03',       # red\n",
    "    'weight': 1\n",
    "}\n",
    "\n",
    "for item in item_collection:\n",
    "    folium.GeoJson(item.to_dict(), style_function=lambda x: style).add_to(map)\n",
    "\n",
    "map"
   ]
  },
  {
   "cell_type": "code",
   "execution_count": null,
   "id": "1c2bcf5b-a06a-4ccd-95ed-e33f0db6777e",
   "metadata": {},
   "outputs": [],
   "source": [
    "pd.DataFrame.from_dict(collection.to_dict()['item_assets'], orient='index')"
   ]
  },
  {
   "cell_type": "markdown",
   "id": "80357f58-62be-4b66-8a37-57a19ce22d79",
   "metadata": {},
   "source": [
    "# Asset Visualization"
   ]
  },
  {
   "cell_type": "code",
   "execution_count": null,
   "id": "877c0a92-46cd-4b2f-9e9a-2df07c640a4f",
   "metadata": {},
   "outputs": [],
   "source": [
    "import requests\n",
    "\n",
    "# add asset to map\n",
    "asset = 'visual'\n",
    "\n",
    "# URL of an XYZ Tile service\n",
    "TILER_URL = 'https://d1v1jsbqwtcqnl.cloudfront.net'\n",
    "\n",
    "def create_item_tilelayer(item, asset):\n",
    "    # add tile layer of this asset to map with a percentile stretch\n",
    "    href = item.assets[asset].href\n",
    "    stats = requests.get(f\"{TILER_URL}/cog/statistics?url=\" + href).json()\n",
    "\n",
    "    # rescale using percentile stretch\n",
    "    rescale_params = ''\n",
    "    for b in ['b1', 'b2', 'b3']:\n",
    "        rescale_params += f\"&rescale={stats[b]['percentile_2']},{stats[b]['percentile_98']}\"\n",
    "\n",
    "    # create tile layer\n",
    "    tileset_url = TILER_URL + \"/cog/tiles/{z}/{x}/{y}?&url=\" + href\n",
    "    tile_layer = folium.TileLayer(tiles = tileset_url + rescale_params, attr=item.id)\n",
    "    return tile_layer\n",
    "\n",
    "# add asset for this single item\n",
    "item = item_collection[0]\n",
    "tile_layer = create_item_tilelayer(item, asset=asset)\n",
    "tile_layer.add_to(map)\n",
    "\n",
    "map"
   ]
  },
  {
   "cell_type": "code",
   "execution_count": null,
   "id": "c78417ea-647e-4f71-be01-cebb6767c859",
   "metadata": {},
   "outputs": [],
   "source": [
    "# add asset for all items\n",
    "for item in item_collection:\n",
    "    tile_layer = create_item_tilelayer(item, asset=asset)\n",
    "    tile_layer.add_to(map)\n",
    "\n",
    "map"
   ]
  }
 ],
 "metadata": {
  "kernelspec": {
   "display_name": "Python 3 (ipykernel)",
   "language": "python",
   "name": "python3"
  },
  "language_info": {
   "codemirror_mode": {
    "name": "ipython",
    "version": 3
   },
   "file_extension": ".py",
   "mimetype": "text/x-python",
   "name": "python",
   "nbconvert_exporter": "python",
   "pygments_lexer": "ipython3",
   "version": "3.10.13"
  }
 },
 "nbformat": 4,
 "nbformat_minor": 5
}
