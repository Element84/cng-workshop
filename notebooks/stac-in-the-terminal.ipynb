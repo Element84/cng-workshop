{
 "cells": [
  {
   "cell_type": "markdown",
   "id": "e4451f58-cea7-47f9-a71a-36466e2ac4b1",
   "metadata": {},
   "source": [
    "# STAC operations in the terminal\n",
    "\n",
    "One of the great ideas of cloud-native geospatial is to make data easily discoverable in a consistent, standardized way. A key piece of this is ensuring that the data itself does not need to be downloaded and accessed to determine if it is relevant or usable, hence STAC. \n",
    "\n",
    "We can work with STAC directly in the terminal with the right tools. The purpose of this notebook is to demonstrate the processes and tools that make doing so possible.\n",
    "\n",
    "Tools used include:\n",
    "* pystac-client (python)\n",
    "* stacterm (python)\n",
    "* jq\n",
    "* gdal\n",
    "\n",
    "To start this notebook, we'll look at querying STAC APIs for items and interacting with the search results. Then we'll turn our attention to working with data from an item to find the elevation of the summit of Mt. Hood in Oregon and how a cloud-optimized data format like COG can make accessing data more efficient."
   ]
  },
  {
   "cell_type": "markdown",
   "id": "204760b5-5588-49cd-a899-d56983b3fb3f",
   "metadata": {},
   "source": [
    "## Querying STAC APIs from the command line\n",
    "\n",
    "We can use the `stac-client` command to interact with STAC APIs, and `jq` to extract desired data from the json responses. We can also use the `stacterm` command to visualize the distribution of items returned by a search in some interesting and useful ways."
   ]
  },
  {
   "cell_type": "code",
   "execution_count": null,
   "id": "5960449c-ecd5-472a-bc06-b32ff500b816",
   "metadata": {},
   "outputs": [],
   "source": [
    "# Set our STAC API URL\n",
    "STAC_API=https://earth-search.aws.element84.com/v1            # Earth Search\n",
    "#STAC_API=https://planetarycomputer.microsoft.com/api/stac/v1  # Planetary Computer\n",
    "#STAC_API=https://landsatlook.usgs.gov/stac-server             # USGS Landsat\n",
    "\n",
    "# Set our AOI geojson file\n",
    "AOI=\"../aois/mthood.geojson\""
   ]
  },
  {
   "cell_type": "markdown",
   "id": "d00db2da-378d-42d2-86ec-c36752c36fb3",
   "metadata": {},
   "source": [
    "### Getting collections\n",
    "\n",
    "If we know a thing or two about STAC APIs, we can interact with them using something as simple (or complicated, depending on the frame of reference) as `curl`. Something like listing collections isn't particularly difficult, so let's see an example."
   ]
  },
  {
   "cell_type": "code",
   "execution_count": null,
   "id": "a317ec56-16bd-4aff-8cd4-d098619f0437",
   "metadata": {},
   "outputs": [],
   "source": [
    "curl -s $STAC_API/collections | jq '.collections[].id'"
   ]
  },
  {
   "cell_type": "markdown",
   "id": "506c0bc2-04e6-4ad0-8e8a-1e4f1b030eab",
   "metadata": {},
   "source": [
    "We can do the same thing using the `stac-client` command (from the python package `pystac-client`). That is, the `collections` subcommand of the `stac-client` command allows a user to query a STAC API to see its collections. The difference between `curl` and `stac-client` and why to use the latter isn't readily apparent when listing collections; we'll see the advantages of `stac-client` when we get to item searches."
   ]
  },
  {
   "cell_type": "code",
   "execution_count": null,
   "id": "d8f3e1e2-2ad0-4b27-924b-02765ee943a0",
   "metadata": {},
   "outputs": [],
   "source": [
    "# See what collections we have in the catalog\n",
    "stac-client collections $STAC_API | jq '.[].id'\n",
    "\n",
    "# Try the above command without the `| jq '.[].id'` to see the whole output"
   ]
  },
  {
   "cell_type": "code",
   "execution_count": null,
   "id": "916168cd-8908-4bb6-a0a6-92bb0118a3b9",
   "metadata": {},
   "outputs": [],
   "source": [
    "# Pick a collection name from the output above\n",
    "COLLECTION=\"sentinel-2-l1c\""
   ]
  },
  {
   "cell_type": "code",
   "execution_count": null,
   "id": "0d990aaf-fb14-4f8e-a9ab-f574327f31d4",
   "metadata": {
    "scrolled": true
   },
   "outputs": [],
   "source": [
    "# Get the metadata for the specified collection\n",
    "stac-client collections $STAC_API | jq '.[] | select(.id == \"'$COLLECTION'\")'"
   ]
  },
  {
   "cell_type": "markdown",
   "id": "0d02d183-b15d-4b78-9c9a-7efde8bab900",
   "metadata": {},
   "source": [
    "### Searching for items\n",
    "\n",
    "Here we can start to see why we want to use a purpose-built tool like `stac-client` over something like `curl`, as the former greatly simplifies search queries."
   ]
  },
  {
   "cell_type": "code",
   "execution_count": null,
   "id": "6e809d6e-ba54-4559-a216-faadea88318b",
   "metadata": {},
   "outputs": [],
   "source": [
    "# See how many items are in the specified collection\n",
    "# (note: this does not work with all STAC API implementations)\n",
    "stac-client search $STAC_API --collection $COLLECTION --matched"
   ]
  },
  {
   "cell_type": "code",
   "execution_count": null,
   "id": "32b11fc2-3586-46bd-910a-ee004293837c",
   "metadata": {},
   "outputs": [],
   "source": [
    "# The same search, but limited to an API\n",
    "# (note: this does not work with all STAC API implementations)\n",
    "stac-client search $STAC_API --collection $COLLECTION --intersects $AOI --matched"
   ]
  },
  {
   "cell_type": "code",
   "execution_count": null,
   "id": "4af72083-54b3-4b20-9176-3c836ac1d474",
   "metadata": {},
   "outputs": [],
   "source": [
    "# We can continue to refine this search with additional\n",
    "# parameters like a date range and a cloud cover threshold\n",
    "stac-client search $STAC_API --collection $COLLECTION --intersects $AOI \\\n",
    "    --query 'eo:cloud_cover<20' \\\n",
    "    --datetime '2019-01-01/2019-05-01' \\\n",
    "    --matched"
   ]
  },
  {
   "cell_type": "markdown",
   "id": "dca885a5-6d05-4c78-a4cb-b7f8dfe66fe0",
   "metadata": {},
   "source": [
    "#### Follow-on questions\n",
    "\n",
    "* What might one of these complex queries look like with curl?\n",
    "* What happens if you choose a different AOI or target collection?\n",
    "* Dig into the help for the `stac-client search` command. What other interesting parameters are supported?"
   ]
  },
  {
   "cell_type": "markdown",
   "id": "5b65fed8-7cb5-4408-afbc-5f633fe84afd",
   "metadata": {},
   "source": [
    "### Using `stacterm` to visualize search results\n",
    "\n",
    "Sometimes aggregating and visualizing STAC search results can help answer certain questions or refine search parameters. The `stacterm` tool provides a mechanism to do this from the shell."
   ]
  },
  {
   "cell_type": "code",
   "execution_count": null,
   "id": "931de16f-9e66-4910-8a3a-a0e37f7c9b88",
   "metadata": {},
   "outputs": [],
   "source": [
    "# We can inspect all the scenes from our AOI search more closely,\n",
    "# so let's save the search results to a file for reuse.\n",
    "stac-client search $STAC_API --intersects $AOI --datetime '2019-01-01/2020-01-01' > items.json"
   ]
  },
  {
   "cell_type": "code",
   "execution_count": null,
   "id": "5677fde9-2fa3-426d-a3e9-17bcbdd23782",
   "metadata": {},
   "outputs": [],
   "source": [
    "# We can see what platforms collected in our AOI by date\n",
    "<items.json stacterm cal --label-field platform"
   ]
  },
  {
   "cell_type": "code",
   "execution_count": null,
   "id": "b293f321-8812-4c1f-899b-6ee20f286b1c",
   "metadata": {},
   "outputs": [],
   "source": [
    "# Maybe we just want to see Sentinel 2 items?\n",
    "# We can pre-filter with jq!\n",
    "<items.json jq '.features |= map(select(.collection == \"sentinel-2-l1c\"))' | stacterm cal --label-field platform"
   ]
  },
  {
   "cell_type": "code",
   "execution_count": null,
   "id": "9d448802-af74-43f9-9f94-2392ea28bfdb",
   "metadata": {},
   "outputs": [],
   "source": [
    "# We can even make a histogram of Sentinel 2 scenes by percent cloud cover\n",
    "<items.json jq '.features |= map(select(.collection == \"sentinel-2-l1c\"))' | stacterm hist eo:cloud_cover\n",
    "\n",
    "# Or plot cloud cover over time\n",
    "<items.json jq '.features |= map(select(.collection == \"sentinel-2-l1c\"))' | stacterm plot datetime eo:cloud_cover"
   ]
  },
  {
   "cell_type": "markdown",
   "id": "897f7147-3711-4819-8526-00f4ae081934",
   "metadata": {},
   "source": [
    "#### Follow-on questions\n",
    "\n",
    "* How do the results change for different time frames or AOIs?\n",
    "* What other filters can subset the result data in interesting ways?\n",
    "* Try running `stacterm -h` and digging into the options for each subcommand. What other interesting visualizations can you come up with?"
   ]
  },
  {
   "cell_type": "markdown",
   "id": "3ec61d33-2cfc-4690-99eb-50849a98a853",
   "metadata": {},
   "source": [
    "## Finding the elevation of Mt. Hood\n",
    "\n",
    "Cloud-native geospatial is not just about metadata, data formats also play a crucial role. One such cloud-native geospatial data format is the \"cloud-optimized geotiff\" (COG).\n",
    "\n",
    "COGs are structured in a way that allows a user to access part of the file when only a subset (by space or resolution) is required. This means that users can save time, money, and compute and storage resources by only accessing the relevant part of a larger file.\n",
    "\n",
    "We'll leverage the COG format to do a short analysis to see if we can find the elevation of Mt. Hood in Oregon using a 30-meter DEM dataset."
   ]
  },
  {
   "cell_type": "code",
   "execution_count": null,
   "id": "a19779cf-23b4-404e-8b2e-57908e242f8d",
   "metadata": {},
   "outputs": [],
   "source": [
    "# Set our STAC API URL and collection name\n",
    "STAC_API=\"https://earth-search.aws.element84.com/v1\"\n",
    "COLLECTION=\"cop-dem-glo-30\"\n",
    "\n",
    "# Set our AOI geojson file\n",
    "AOI=\"../aois/mthood.geojson\"\n",
    "\n",
    "# Disable AWS client authentication\n",
    "export AWS_NO_SIGN_REQUEST=\"YES\""
   ]
  },
  {
   "cell_type": "code",
   "execution_count": null,
   "id": "d3740547-0898-4859-a521-b73f0361575a",
   "metadata": {},
   "outputs": [],
   "source": [
    "# Find the DEM tile that intersects Mt. Hood AOI\n",
    "ITEM=\"$(stac-client search $STAC_API --intersects $AOI --collection $COLLECTION)\"\n",
    "<<<$ITEM jq ."
   ]
  },
  {
   "cell_type": "code",
   "execution_count": null,
   "id": "51084c0e-69f1-4517-9e16-712ddd56ae36",
   "metadata": {},
   "outputs": [],
   "source": [
    "# Extract the geotransform values from the item's projection metadata\n",
    "TRANSFORM=\"$(<<<$ITEM jq '.features[].properties.\"proj:transform\"[]')\"\n",
    "eval $(\n",
    "    <<<$TRANSFORM awk '\n",
    "        {print \"PX_WIDTH=\"tolower($1)};\n",
    "        {print \"ROW_ROT=\"tolower($2)};\n",
    "        {print \"UP_LEFT_LONG=\"tolower($3)};\n",
    "        {print \"COL_ROT=\"tolower($4)};\n",
    "        {print \"PX_HEIGHT=\"tolower($5)};\n",
    "        {print \"UP_LEFT_LAT=\"tolower($6)};\n",
    "    '\n",
    ")\n",
    "\n",
    "# We can print out the upper left corner coordinates to see what they were set to\n",
    "echo $UP_LEFT_LONG, $UP_LEFT_LAT"
   ]
  },
  {
   "cell_type": "code",
   "execution_count": null,
   "id": "e08247ab-4c51-4ad0-bfa7-37de205cbba4",
   "metadata": {},
   "outputs": [],
   "source": [
    "# The summit of Mt. Hood is at -121.695833, 45.373611 (https://en.wikipedia.org/wiki/Mount_Hood).\n",
    "SUMMIT_LONG=-121.695833\n",
    "SUMMIT_LAT=45.373611\n",
    "\n",
    "# Calculate the pixel coords of the summit based on the item's geotransform\n",
    "# (we use python for the arithmetic because bash doesn't support floats)\n",
    "# (the cut command effectively floors the result by truncating to an int)\n",
    "SUMMIT_COL=$(python -c \"print(($SUMMIT_LONG - $UP_LEFT_LONG) / $PX_WIDTH)\" | cut -d '.' -f 1)\n",
    "SUMMIT_ROW=$(python -c \"print(($SUMMIT_LAT - $UP_LEFT_LAT) / $PX_HEIGHT)\" | cut -d '.' -f 1)\n",
    "\n",
    "# Again, let's see what values we got\n",
    "echo $SUMMIT_COL, $SUMMIT_ROW"
   ]
  },
  {
   "cell_type": "code",
   "execution_count": null,
   "id": "c4695f3a-bcfa-4ddb-9fd1-973f9823e719",
   "metadata": {},
   "outputs": [],
   "source": [
    "# Extract the href for the item's data asset, replacing the scheme for use with GDAL\n",
    "HREF=\"$(<<<$ITEM jq -r '.features[].assets.data.href' | sed 's|^s3://|/vsis3/|')\"\n",
    "\n",
    "echo $HREF"
   ]
  },
  {
   "cell_type": "code",
   "execution_count": null,
   "id": "1faea1f7-2a40-4fcb-ac20-128f6d8bf612",
   "metadata": {},
   "outputs": [],
   "source": [
    "# We can use GDAL to get the value for the summit cell directly from the remote asset\n",
    "time gdallocationinfo \"$HREF\" $SUMMIT_COL $SUMMIT_ROW"
   ]
  },
  {
   "cell_type": "markdown",
   "id": "0a0aea2c-2626-4aba-8918-cf09fe00d00b",
   "metadata": {},
   "source": [
    "Note the time taken and the value retrieved. Let's see how that time compares to using `gdalinfo` to fetch just the COG header information."
   ]
  },
  {
   "cell_type": "code",
   "execution_count": null,
   "id": "a69f566e-dd6f-4806-872c-9c1f25afbf26",
   "metadata": {},
   "outputs": [],
   "source": [
    "time gdalinfo $HREF"
   ]
  },
  {
   "cell_type": "markdown",
   "id": "a08e78be-a7c5-4ed5-81ab-7e5cc831e5bd",
   "metadata": {},
   "source": [
    "This operation was faster, yeah? That's because when we ran `gdallocationinfo` we had to make this same request to get the COG header information. That header info gave us what we needed to calculate the offset in the file for the tile containing the cell in question, which we were able to download via a second request.\n",
    "\n",
    "Let's see what happens if we do something that requires downloading the entire COG. Asking GDAL to calculate the statistics would necessitate fetching all the data."
   ]
  },
  {
   "cell_type": "code",
   "execution_count": null,
   "id": "d65760b0-e758-4225-bc21-90397e0fb3a4",
   "metadata": {},
   "outputs": [],
   "source": [
    "time gdalinfo -stats $HREF"
   ]
  },
  {
   "cell_type": "markdown",
   "id": "fdc5739d-6d5f-4eee-b106-dc5adf484b22",
   "metadata": {},
   "source": [
    "A lot slower, right?\n",
    "\n",
    "Some of the extra time might be because we're calculating stats, but most of it is simply data transfer time. We can test this theory by downloading the file and running the command again on the local version."
   ]
  },
  {
   "cell_type": "code",
   "execution_count": null,
   "id": "c7f420aa-1815-4263-a185-c9891f4aa816",
   "metadata": {},
   "outputs": [],
   "source": [
    "time gdalmanage copy $HREF fullsize.tif\n",
    "time gdalinfo -stats fullsize.tif"
   ]
  },
  {
   "cell_type": "markdown",
   "id": "8c752740-176c-4973-9ff7-7095a7d890fd",
   "metadata": {},
   "source": [
    "Calculating the stats was way fast. We can see most of the time spent here was in the download phase, which took even longer than we've seen before because we had to copy even more than just the full resolution data.\n",
    "\n",
    "Why is that? One aspect of COGs that also helps with speed is the fact that COGs support overviews, or reduced resolution copies of the data. So when we copied the file we actually copied the data multiple times, just at different resolutions.\n",
    "\n",
    "Okay, but why would we want to have lower resolution copies of the data? Isn't that just inefficient duplication?\n",
    "\n",
    "Let's use `gdal_translate` to show how overviews are useful. We'll reduce the resolution to 1/10th the input. We'll run this operation with debug logging enabled to show exactly that."
   ]
  },
  {
   "cell_type": "code",
   "execution_count": null,
   "id": "d0cd3cc2-6a54-46c6-8bd1-be71ff872903",
   "metadata": {},
   "outputs": [],
   "source": [
    "time gdal_translate -outsize 10% 10% -of COG --debug on $HREF reduced.tif"
   ]
  },
  {
   "cell_type": "markdown",
   "id": "facb0373-e655-4a8f-ab9c-ac0ff28b0e32",
   "metadata": {},
   "source": [
    "Notice the lines like `GTiff: Opened ....x.... overview.`? Our input data is 3600x3600, so with an output target of 10% we want to make a 360x360 image. We can speed up the resampling operation by choosing the closest overview greater than our target resolution.\n",
    "\n",
    "We see GDAL ends up selecting the 450x450 overview of the data for this reason. We also see doing so increased the efficiency of this operation, which we can tell because it only took a fraction of the time downloading the original resolution data would have required.\n",
    "\n",
    "Just for fun, run `gdalinfo` on the resized output to see how the metadata has changed."
   ]
  },
  {
   "cell_type": "code",
   "execution_count": null,
   "id": "fd178478-f7ee-4045-9a54-e7a030a41f7c",
   "metadata": {},
   "outputs": [],
   "source": [
    "gdalinfo reduced.tif"
   ]
  },
  {
   "cell_type": "markdown",
   "id": "306eb75f-199d-4444-8df8-c7059f4e0b37",
   "metadata": {},
   "source": [
    "#### Follow-on questions\n",
    "\n",
    "* The summit of Mt. Hood has an elevation of 3428.8 meters, per the [National Geodetic Survey](https://www.ngs.noaa.gov/cgi-bin/ds_mark.prl?PidBox=RC2244). What explains the difference between that value and the value we extracted from the DEM?\n",
    "* How might the COG data format, with its support for random access and overviews, be useful for web mapping?"
   ]
  }
 ],
 "metadata": {
  "kernelspec": {
   "display_name": "Bash",
   "language": "bash",
   "name": "bash"
  },
  "language_info": {
   "codemirror_mode": "shell",
   "file_extension": ".sh",
   "mimetype": "text/x-sh",
   "name": "bash"
  }
 },
 "nbformat": 4,
 "nbformat_minor": 5
}
