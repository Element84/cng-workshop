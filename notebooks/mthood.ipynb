{
 "cells": [
  {
   "cell_type": "code",
   "execution_count": null,
   "id": "5960449c-ecd5-472a-bc06-b32ff500b816",
   "metadata": {},
   "outputs": [],
   "source": [
    "# Set our STAC API URL\n",
    "STAC=https://earth-search.aws.element84.com/v1\n",
    "\n",
    "# Disable AWS client authentication\n",
    "export AWS_NO_SIGN_REQUEST=YES"
   ]
  },
  {
   "cell_type": "code",
   "execution_count": null,
   "id": "d8f3e1e2-2ad0-4b27-924b-02765ee943a0",
   "metadata": {},
   "outputs": [],
   "source": [
    "# See what collections we have in the catalog\n",
    "stac-client collections $STAC | jq '.[].id'"
   ]
  },
  {
   "cell_type": "code",
   "execution_count": null,
   "id": "0d990aaf-fb14-4f8e-a9ab-f574327f31d4",
   "metadata": {},
   "outputs": [],
   "source": [
    "# Get the metadata for the Copernicus 30m DEM\n",
    "stac-client collections $STAC | jq '.[] | select(.id == \"cop-dem-glo-30\")'"
   ]
  },
  {
   "cell_type": "code",
   "execution_count": null,
   "id": "d3740547-0898-4859-a521-b73f0361575a",
   "metadata": {},
   "outputs": [],
   "source": [
    "# Find the DEM tile that intersects Mt. Hood AOI\n",
    "ITEM=\"$(stac-client search $STAC --intersects ../aois/mthood.geojson --collection cop-dem-glo-30)\"\n",
    "<<<$ITEM jq ."
   ]
  },
  {
   "cell_type": "code",
   "execution_count": null,
   "id": "51084c0e-69f1-4517-9e16-712ddd56ae36",
   "metadata": {},
   "outputs": [],
   "source": [
    "# Extract the geotransform values from the item's projection metadata\n",
    "TRANSFORM=\"$(<<<$ITEM jq '.features[].properties.\"proj:transform\"[]')\"\n",
    "eval $(\n",
    "    <<<$TRANSFORM awk '\n",
    "        {print \"PX_WIDTH=\"tolower($1)};\n",
    "        {print \"ROW_ROT=\"tolower($2)};\n",
    "        {print \"UP_LEFT_LONG=\"tolower($3)};\n",
    "        {print \"COL_ROT=\"tolower($4)};\n",
    "        {print \"PX_HEIGHT=\"tolower($5)};\n",
    "        {print \"UP_LEFT_LAT=\"tolower($6)};\n",
    "    '\n",
    ")\n",
    "\n",
    "echo $UP_LEFT_LONG, $UP_LEFT_LAT"
   ]
  },
  {
   "cell_type": "code",
   "execution_count": null,
   "id": "e08247ab-4c51-4ad0-bfa7-37de205cbba4",
   "metadata": {},
   "outputs": [],
   "source": [
    "# The summit of Mt. Hood is at -121.695833, 45.373611 (https://en.wikipedia.org/wiki/Mount_Hood).\n",
    "SUMMIT_LONG=-121.695833\n",
    "SUMMIT_LAT=45.373611\n",
    "\n",
    "# Calculate the pixel coords of the summit based on the item's geotransform\n",
    "# (we use python for the arithmetic because bash doesn't support floats)\n",
    "# (the cut command effectively floors the result by truncating to an int)\n",
    "SUMMIT_COL=$(python -c \"print(($SUMMIT_LONG - $UP_LEFT_LONG) / $PX_WIDTH)\" | cut -d '.' -f 1)\n",
    "SUMMIT_ROW=$(python -c \"print(($SUMMIT_LAT - $UP_LEFT_LAT) / $PX_HEIGHT)\" | cut -d '.' -f 1)\n",
    "\n",
    "echo $SUMMIT_COL, $SUMMIT_ROW"
   ]
  },
  {
   "cell_type": "code",
   "execution_count": null,
   "id": "c4695f3a-bcfa-4ddb-9fd1-973f9823e719",
   "metadata": {},
   "outputs": [],
   "source": [
    "# Extract the href for the item's data asset, replacing the scheme for use with GDAL\n",
    "HREF=\"$(<<<$ITEM jq -r '.features[].assets.data.href' | sed 's|s3://|/vsis3/|')\"\n",
    "\n",
    "echo $HREF"
   ]
  },
  {
   "cell_type": "code",
   "execution_count": null,
   "id": "1faea1f7-2a40-4fcb-ac20-128f6d8bf612",
   "metadata": {},
   "outputs": [],
   "source": [
    "# We can use GDAL to get the value for the summit cell directly from the remote asset\n",
    "time gdallocationinfo \"$HREF\" $SUMMIT_COL $SUMMIT_ROW"
   ]
  },
  {
   "cell_type": "code",
   "execution_count": null,
   "id": "a69f566e-dd6f-4806-872c-9c1f25afbf26",
   "metadata": {},
   "outputs": [],
   "source": [
    "time gdalinfo $HREF"
   ]
  },
  {
   "cell_type": "code",
   "execution_count": null,
   "id": "d65760b0-e758-4225-bc21-90397e0fb3a4",
   "metadata": {},
   "outputs": [],
   "source": [
    "time gdalinfo -stats $HREF"
   ]
  },
  {
   "cell_type": "code",
   "execution_count": null,
   "id": "d0cd3cc2-6a54-46c6-8bd1-be71ff872903",
   "metadata": {},
   "outputs": [],
   "source": [
    "time gdal_translate -outsize 10% 10% --debug on $HREF out.tif"
   ]
  },
  {
   "cell_type": "code",
   "execution_count": null,
   "id": "fd178478-f7ee-4045-9a54-e7a030a41f7c",
   "metadata": {},
   "outputs": [],
   "source": [
    "gdalinfo out.tif"
   ]
  }
 ],
 "metadata": {
  "kernelspec": {
   "display_name": "Bash",
   "language": "bash",
   "name": "bash"
  },
  "language_info": {
   "codemirror_mode": "shell",
   "file_extension": ".sh",
   "mimetype": "text/x-sh",
   "name": "bash"
  }
 },
 "nbformat": 4,
 "nbformat_minor": 5
}
