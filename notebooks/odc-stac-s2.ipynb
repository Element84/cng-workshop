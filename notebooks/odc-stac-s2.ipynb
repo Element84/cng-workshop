{
 "cells": [
  {
   "attachments": {},
   "cell_type": "markdown",
   "id": "72ce7dad-49bb-4ecf-bc1f-0d55ed61d276",
   "metadata": {
    "tags": []
   },
   "source": [
    "# Using ODC-STAC with Sentinel-2\n",
    "\n",
    "This notebook explores Sentinel-2 data on Earth Search, demonstrating how [odc-stac](https://odc-stac.readthedocs.io/) can be used to do processing at scale.\n",
    "\n",
    " - [Earth Search](https://element84.com/earth-search), a catalog of public data\n",
    " - [pystac-client](https://pystac-client.readthedocs.io/), for searching and access data\n",
    " - [OpenDataCube](https://www.opendatacube.org/) and [odc-stac](https://odc-stac.readthedocs.io/) for loading STAC assets and representing geospatial data as XArrays\n",
    " - [XArray](http://xarray.pydata.org/en/stable/), [pandas](https://pandas.pydata.org/) and [geopandas](https://geopandas.org/) for manipulating data\n",
    " - [Dask](https://dask.org/) for performing parallel, distributed computing\n",
    " - [Folium](https://python-visualization.github.io/folium/index.html) and [hvplot](https://hvplot.holoviz.org/) for visualization\n",
    "\n",
    "Shown will be how find data for an area of interest, explore the resulting metadata, perform calculations like NDVI, and visualize the results."
   ]
  },
  {
   "cell_type": "markdown",
   "id": "dab3ddf5-1c57-4495-b7e2-d5c893c140a6",
   "metadata": {},
   "source": [
    "# Choose Area of Interest"
   ]
  },
  {
   "cell_type": "code",
   "execution_count": null,
   "id": "cf489c04-8aa0-44b8-976a-d8ca3585b059",
   "metadata": {},
   "outputs": [],
   "source": [
    "# AOIs available\n",
    "\n",
    "from glob import glob\n",
    "from pprint import pprint\n",
    "\n",
    "pprint(glob(\"../aois/*\"))"
   ]
  },
  {
   "cell_type": "code",
   "execution_count": null,
   "id": "4320c703-3d9b-471c-aba8-bb18414d3562",
   "metadata": {},
   "outputs": [],
   "source": [
    "# read the GeoJSON file and create a map\n",
    "\n",
    "import json\n",
    "from pathlib import Path\n",
    "\n",
    "aoi_fname = \"../aois/bear-fire.geojson\"\n",
    "\n",
    "aoi = json.loads(Path(aoi_fname).read_text())\n",
    "\n",
    "# use folium to display vectors\n",
    "# Several folium basemap tiles are available:\n",
    "#   - OpenStreetMap\n",
    "#   - Stamen Terrain\n",
    "#   - Stamen Toner\n",
    "#   - Stamen Watercolor\n",
    "#   - CartoDB positron\n",
    "#   - CartoDB dark_matter\n",
    "\n",
    "import folium\n",
    "\n",
    "map = folium.Map(tiles='OpenStreetMap')\n",
    "\n",
    "# add vector to map, as transparent polygon\n",
    "folium.GeoJson(aoi, style_function = lambda x: {'fillColor': '#00000000'}).add_to(map)\n",
    "\n",
    "# fit the map to the bounds of the data\n",
    "lons = [x[0] for x in aoi[\"geometry\"][\"coordinates\"][0]]\n",
    "lats = [x[1] for x in aoi[\"geometry\"][\"coordinates\"][0]]\n",
    "map.fit_bounds([(min(lats), min(lons)), (max(lats), max(lons))])\n",
    "\n",
    "map"
   ]
  },
  {
   "cell_type": "markdown",
   "id": "87e3ba81-e01c-4bc3-9a80-1315fcdef77a",
   "metadata": {},
   "source": [
    "# Search the API"
   ]
  },
  {
   "cell_type": "code",
   "execution_count": null,
   "id": "0ad99626-896f-4272-ba93-8fe8262c8523",
   "metadata": {},
   "outputs": [],
   "source": [
    "# Use pystac-client to find data in the STAC API.\n",
    "\n",
    "from pystac_client import Client\n",
    "api = Client.open(\"https://earth-search.aws.element84.com/v1/\")\n",
    "\n",
    "col = 'sentinel-2-l2a'\n",
    "collection = api.get_collection(col)\n",
    "collection"
   ]
  },
  {
   "cell_type": "code",
   "execution_count": null,
   "id": "79b862db-b9c2-45bd-add3-6b44ba85d777",
   "metadata": {},
   "outputs": [],
   "source": [
    "# print the Collection\n",
    "import pandas as pd\n",
    "\n",
    "pd.DataFrame.from_dict(collection.to_dict()['item_assets'], orient='index')"
   ]
  },
  {
   "cell_type": "code",
   "execution_count": null,
   "id": "0e489082-c85b-4242-9b41-cbc7d790c49c",
   "metadata": {},
   "outputs": [],
   "source": [
    "%%time\n",
    "\n",
    "# search the API\n",
    "\n",
    "query = api.search(\n",
    "    collections=[collection.id],\n",
    "    intersects=aoi['geometry'],\n",
    "    datetime=\"2019-10-01/2021-10-01\",\n",
    "    limit=100,\n",
    "    query = [\n",
    "        \"eo:cloud_cover<10\"\n",
    "    ]\n",
    ")\n",
    "item_collection = query.item_collection()\n",
    "\n",
    "print(f\"Found: {len(item_collection):d} STAC Items\")"
   ]
  },
  {
   "cell_type": "code",
   "execution_count": null,
   "id": "6c436c64-8c55-4a7f-8ee4-4e3224eb6ea6",
   "metadata": {},
   "outputs": [],
   "source": [
    "%%time\n",
    "\n",
    "# display the map with footprints\n",
    "\n",
    "# view footprints\n",
    "style = {\n",
    "    'fillColor': '#00000000', # transparent\n",
    "    'color': '#fc0f03',       # red\n",
    "    'weight': 1\n",
    "}\n",
    "\n",
    "for item in item_collection:\n",
    "    folium.GeoJson(item.to_dict(), style_function=lambda x: style).add_to(map)\n",
    "\n",
    "map"
   ]
  },
  {
   "cell_type": "code",
   "execution_count": null,
   "id": "ba5bc135-57a3-47a3-b242-77e7959c0a94",
   "metadata": {},
   "outputs": [],
   "source": [
    "%%time\n",
    "# Here we load as a DataCube. A PySTAC ItemCollection is created from the found STAC Items,\n",
    "# and we specify various parameters, such as bands of interest and chunk size.\n",
    "# We are requesting to only load pixels within a bounding box of the requested\n",
    "# geometry (`bbox=geom.bounds`).\n",
    "\n",
    "from odc.stac import stac_load\n",
    "import geopandas as gpd\n",
    "\n",
    "aoi_df = gpd.read_file(aoi_fname)['geometry'][0]\n",
    "\n",
    "dc = stac_load(item_collection,\n",
    "               measurements=['red', 'green', 'blue', 'nir'],\n",
    "               chunks={\"x\": 1024, \"y\": 1024},\n",
    "               bbox=aoi_df.bounds,\n",
    "               groupby='solar_day',\n",
    ")\n",
    "dc"
   ]
  },
  {
   "cell_type": "code",
   "execution_count": null,
   "id": "6b24cb37-5119-4223-8a6e-f244b6801af6",
   "metadata": {},
   "outputs": [],
   "source": [
    "%%time\n",
    "\n",
    "# Create scaled RGB image\n",
    "#\n",
    "# We will create an RGBA datacube representation (`nodata` values have `alpha=0`),\n",
    "# and generate an NDVI datacube.\n",
    "\n",
    "vis = dc.odc.to_rgba(vmin=1, vmax=2000, bands=['blue', 'green', 'red'])\n",
    "vis"
   ]
  },
  {
   "cell_type": "code",
   "execution_count": null,
   "id": "0203f638-a320-429b-b74c-ed7d1c26141f",
   "metadata": {},
   "outputs": [],
   "source": [
    "%%time\n",
    "\n",
    "# Calcualate NDVI\n",
    "\n",
    "ndvi = ((dc['nir'] - dc['red']) / (dc['nir'] + dc['red'])).clip(0, 1).rename(\"ndvi\")\n",
    "ndvi"
   ]
  },
  {
   "cell_type": "code",
   "execution_count": null,
   "id": "ac75f420-213a-4f43-b48f-365d9c1c82c2",
   "metadata": {},
   "outputs": [],
   "source": [
    "%%time\n",
    "\n",
    "# start Dask cluster using coiled\n",
    "\n",
    "import coiled\n",
    "from dask.distributed import Client\n",
    "\n",
    "# start dask cluster on coiled.io\n",
    "cluster = coiled.Cluster(\n",
    "    n_workers=10,\n",
    "    software=\"cng-workshop\",\n",
    "    account=\"element84-demo-workspace\",\n",
    "    backend_options={\"region\": \"us-west-2\"}\n",
    ")\n",
    "client = Client(cluster)\n",
    "\n",
    "print('Dashboard:', client.dashboard_link)\n",
    "client"
   ]
  },
  {
   "cell_type": "code",
   "execution_count": null,
   "id": "33ae9868-399e-41f2-b29c-04ae86d70d13",
   "metadata": {},
   "outputs": [],
   "source": [
    "%%time\n",
    "\n",
    "# use Dask to compute\n",
    "\n",
    "# The Dask `persist` function performs the compuation and keeps data in memory on the cluster\n",
    "# The Dask `compute` function is used when we actually want the data, such as displaying it.\n",
    "\n",
    "from dask.distributed import wait\n",
    "\n",
    "ndvi, vis = client.persist([ndvi, vis])\n",
    "_ = wait([ndvi, vis])"
   ]
  },
  {
   "cell_type": "code",
   "execution_count": null,
   "id": "6bcd40f7-1817-42cf-a07f-2b5dc83dfa2e",
   "metadata": {},
   "outputs": [],
   "source": [
    "%%time\n",
    "\n",
    "# display RGB image\n",
    "\n",
    "vis_ = vis.compute()\n",
    "\n",
    "import hvplot.xarray\n",
    "\n",
    "hvplot_kwargs = {\n",
    "    \"frame_width\": 800,\n",
    "    \"xaxis\": None,\n",
    "    \"yaxis\": None,\n",
    "    \"widget_location\": \"bottom\",\n",
    "    \"aspect\": len(vis.x)/len(vis.y)\n",
    "}\n",
    "\n",
    "vis_.hvplot.rgb('x', 'y', bands='band', groupby='time', **hvplot_kwargs)"
   ]
  },
  {
   "cell_type": "code",
   "execution_count": null,
   "id": "d2f4c9a7-0c36-42bd-afcf-4e08abceef8f",
   "metadata": {},
   "outputs": [],
   "source": [
    "# display NDVI image\n",
    "\n",
    "ndvi_ = ndvi.compute()\n",
    "ndvi_.hvplot('x', 'y', groupby='time', **hvplot_kwargs)"
   ]
  },
  {
   "cell_type": "code",
   "execution_count": null,
   "id": "3ebca306-75f1-4e29-8a0b-33d88c20a14a",
   "metadata": {
    "tags": []
   },
   "outputs": [],
   "source": [
    "%%time\n",
    "\n",
    "# create time series plot of average scene NDVI\n",
    "\n",
    "ndvi_mean = ndvi.mean(dim=['x', 'y']).compute()\n",
    "ndvi_mean.hvplot()"
   ]
  },
  {
   "cell_type": "code",
   "execution_count": null,
   "id": "8f31714c-f00e-409b-b294-7fe17cb328f2",
   "metadata": {
    "tags": []
   },
   "outputs": [],
   "source": [
    "# Stopping Dask cluster and cleaning resources\n",
    "\n",
    "client.close()\n",
    "cluster.shutdown()\n",
    "cluster.close()"
   ]
  }
 ],
 "metadata": {
  "kernelspec": {
   "display_name": "Python 3 (ipykernel)",
   "language": "python",
   "name": "python3"
  },
  "language_info": {
   "codemirror_mode": {
    "name": "ipython",
    "version": 3
   },
   "file_extension": ".py",
   "mimetype": "text/x-python",
   "name": "python",
   "nbconvert_exporter": "python",
   "pygments_lexer": "ipython3",
   "version": "3.10.13"
  }
 },
 "nbformat": 4,
 "nbformat_minor": 5
}
